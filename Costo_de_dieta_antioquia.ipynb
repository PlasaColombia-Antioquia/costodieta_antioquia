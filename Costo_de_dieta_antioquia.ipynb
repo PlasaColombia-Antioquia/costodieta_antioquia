{
  "nbformat": 4,
  "nbformat_minor": 0,
  "metadata": {
    "colab": {
      "provenance": [],
      "authorship_tag": "ABX9TyNLTzbLS9lbKDrPTYF9m5BU",
      "include_colab_link": true
    },
    "kernelspec": {
      "name": "ir",
      "display_name": "R"
    },
    "language_info": {
      "name": "R"
    }
  },
  "cells": [
    {
      "cell_type": "markdown",
      "metadata": {
        "id": "view-in-github",
        "colab_type": "text"
      },
      "source": [
        "<a href=\"https://colab.research.google.com/github/PlasaColombia-Antioquia/dietasaludable/blob/main/Costo_de_dieta_antioquia.ipynb\" target=\"_parent\"><img src=\"https://colab.research.google.com/assets/colab-badge.svg\" alt=\"Open In Colab\"/></a>"
      ]
    },
    {
      "cell_type": "code",
      "execution_count": null,
      "metadata": {
        "id": "wYYGzFQoaGOi"
      },
      "outputs": [],
      "source": []
    },
    {
      "cell_type": "markdown",
      "source": [
        "dieta saldaible\n",
        "\n",
        "inst"
      ],
      "metadata": {
        "id": "inJpTquoan-o"
      }
    },
    {
      "cell_type": "code",
      "source": [
        "devtools::install_github(\"Foodprice/Foodprice\")"
      ],
      "metadata": {
        "colab": {
          "base_uri": "https://localhost:8080/"
        },
        "id": "AvcYJk_papk1",
        "outputId": "3a19cc64-cc47-4766-a4d9-b9200061027e"
      },
      "execution_count": null,
      "outputs": [
        {
          "metadata": {
            "tags": null
          },
          "name": "stderr",
          "output_type": "stream",
          "text": [
            "Downloading GitHub repo Foodprice/Foodprice@HEAD\n",
            "\n"
          ]
        },
        {
          "metadata": {
            "tags": null
          },
          "name": "stdout",
          "output_type": "stream",
          "text": [
            "xfun        (0.41    -> 0.44   ) [CRAN]\n",
            "stringi     (1.8.3   -> 1.8.4  ) [CRAN]\n",
            "tidyselect  (1.2.0   -> 1.2.1  ) [CRAN]\n",
            "bit         (4.0.4   -> 4.0.5  ) [CRAN]\n",
            "R.methodsS3 (NA      -> 1.8.2  ) [CRAN]\n",
            "R.oo        (NA      -> 1.26.0 ) [CRAN]\n",
            "openssl     (2.0.6   -> 2.2.0  ) [CRAN]\n",
            "curl        (5.0.2   -> 5.2.1  ) [CRAN]\n",
            "digest      (0.6.34  -> 0.6.35 ) [CRAN]\n",
            "sass        (0.4.8   -> 0.4.9  ) [CRAN]\n",
            "fastmap     (1.1.1   -> 1.2.0  ) [CRAN]\n",
            "cachem      (1.0.8   -> 1.1.0  ) [CRAN]\n",
            "tinytex     (0.49    -> 0.51   ) [CRAN]\n",
            "htmltools   (0.5.7   -> 0.5.8.1) [CRAN]\n",
            "bslib       (0.6.1   -> 0.7.0  ) [CRAN]\n",
            "highr       (0.9     -> 0.10   ) [CRAN]\n",
            "processx    (3.8.3   -> 3.8.4  ) [CRAN]\n",
            "rstudioapi  (0.15.0  -> 0.16.0 ) [CRAN]\n",
            "rmarkdown   (2.25    -> 2.27   ) [CRAN]\n",
            "knitr       (1.45    -> 1.46   ) [CRAN]\n",
            "fs          (1.6.3   -> 1.6.4  ) [CRAN]\n",
            "callr       (3.7.3   -> 3.7.6  ) [CRAN]\n",
            "textshaping (0.3.6   -> 0.4.0  ) [CRAN]\n",
            "systemfonts (1.0.5   -> 1.1.0  ) [CRAN]\n",
            "backports   (1.4.1   -> 1.5.0  ) [CRAN]\n",
            "broom       (1.0.5   -> 1.0.6  ) [CRAN]\n",
            "gargle      (1.5.1   -> 1.5.2  ) [CRAN]\n",
            "munsell     (0.5.0   -> 0.5.1  ) [CRAN]\n",
            "farver      (2.1.1   -> 2.1.2  ) [CRAN]\n",
            "isoband     (0.2.6   -> 0.2.7  ) [CRAN]\n",
            "gtable      (0.3.4   -> 0.3.5  ) [CRAN]\n",
            "data.table  (1.15.0  -> 1.15.4 ) [CRAN]\n",
            "DBI         (1.2.1   -> 1.2.2  ) [CRAN]\n",
            "remotes     (2.4.2.1 -> 2.5.0  ) [CRAN]\n",
            "snakecase   (NA      -> 0.11.1 ) [CRAN]\n",
            "R.utils     (NA      -> 2.12.3 ) [CRAN]\n",
            "writexl     (NA      -> 1.5.0  ) [CRAN]\n",
            "rvest       (1.0.3   -> 1.0.4  ) [CRAN]\n",
            "ragg        (1.2.5   -> 1.3.2  ) [CRAN]\n",
            "ggplot2     (3.4.4   -> 3.5.1  ) [CRAN]\n",
            "dbplyr      (2.4.0   -> 2.5.0  ) [CRAN]\n",
            "pacman      (NA      -> 0.5.1  ) [CRAN]\n",
            "lpSolve     (NA      -> 5.6.20 ) [CRAN]\n",
            "stringdist  (NA      -> 0.9.12 ) [CRAN]\n",
            "janitor     (NA      -> 2.2.0  ) [CRAN]\n",
            "rio         (NA      -> 1.1.0  ) [CRAN]\n"
          ]
        },
        {
          "metadata": {
            "tags": null
          },
          "name": "stderr",
          "output_type": "stream",
          "text": [
            "Installing 46 packages: xfun, stringi, tidyselect, bit, R.methodsS3, R.oo, openssl, curl, digest, sass, fastmap, cachem, tinytex, htmltools, bslib, highr, processx, rstudioapi, rmarkdown, knitr, fs, callr, textshaping, systemfonts, backports, broom, gargle, munsell, farver, isoband, gtable, data.table, DBI, remotes, snakecase, R.utils, writexl, rvest, ragg, ggplot2, dbplyr, pacman, lpSolve, stringdist, janitor, rio\n",
            "\n",
            "Installing packages into ‘/usr/local/lib/R/site-library’\n",
            "(as ‘lib’ is unspecified)\n",
            "\n"
          ]
        }
      ]
    },
    {
      "cell_type": "code",
      "source": [],
      "metadata": {
        "id": "m4k9TBe8cOsH"
      },
      "execution_count": null,
      "outputs": []
    },
    {
      "cell_type": "markdown",
      "source": [
        "# Replica estudio para Cali\n",
        "\n",
        "En esta sección se hara la replica para la el cálculo del costo de la dieta para Cali, realizado por la Universidad Javeriana y el CIAT."
      ],
      "metadata": {
        "id": "LPdhogwycQJF"
      }
    },
    {
      "cell_type": "markdown",
      "source": [
        "# New section"
      ],
      "metadata": {
        "id": "hGrnusi2c-sd"
      }
    },
    {
      "cell_type": "code",
      "source": [],
      "metadata": {
        "id": "2pLnR3x-dDhG"
      },
      "execution_count": null,
      "outputs": []
    }
  ]
}